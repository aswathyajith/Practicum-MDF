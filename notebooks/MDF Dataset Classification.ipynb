{
 "cells": [
  {
   "cell_type": "markdown",
   "metadata": {},
   "source": [
    "# Automated Classification of Materials Datasets with NLP"
   ]
  },
  {
   "cell_type": "code",
   "execution_count": 120,
   "metadata": {},
   "outputs": [],
   "source": [
    "import json\n",
    "import numpy as np\n",
    "import pandas as pd\n",
    "from xml.etree import ElementTree as ET"
   ]
  },
  {
   "cell_type": "markdown",
   "metadata": {},
   "source": [
    "Extracting abstract and origin from the json data"
   ]
  },
  {
   "cell_type": "code",
   "execution_count": 178,
   "metadata": {},
   "outputs": [],
   "source": [
    "DATA_LOCATION = \"/home/aswathy/src/MPCS/Winter_18/Practicum/data/mrr-dump-4Jan18.json\""
   ]
  },
  {
   "cell_type": "code",
   "execution_count": 115,
   "metadata": {},
   "outputs": [],
   "source": [
    "#reading in json file\n",
    "with open(DATA_LOCATION, \"r\") as fin:\n",
    "    json_content = json.load(fin)\n",
    "    \n",
    "#Namespace\n",
    "ns = {'nist' : 'http://schema.nist.gov/xml/res-md/1.0wd-02-2017'}\n",
    "abstracts = []\n",
    "onehot_sims = []\n",
    "onehot_exp = []\n",
    "onehot_info = []\n",
    "\n",
    "for json_item in json_content:\n",
    "    xmlstr = json_item['content']\n",
    "    root = ET.fromstring(xmlstr)\n",
    "    applicability = root.find('nist:applicability', namespaces=ns)\n",
    "    \n",
    "    #if no origin then throw away\n",
    "    if (applicability == None):\n",
    "        continue\n",
    "        \n",
    "    content = root.find('nist:content', namespaces=ns)    \n",
    "    desc = content.findtext('nist:description', namespaces=ns)\n",
    "    applicability = root.find('nist:applicability', namespaces=ns)\n",
    "    if (applicability == None):\n",
    "        continue\n",
    "        \n",
    "    dataOrigin = applicability.find('nist:dataOrigin', namespaces=ns)\n",
    "    simulations = dataOrigin.find('nist:simulations', namespaces=ns)\n",
    "    experiments = dataOrigin.find('nist:experiments', namespaces=ns)\n",
    "    informatics = dataOrigin.find('nist:informatics_and_data_science', namespaces=ns)\n",
    "    \n",
    "    if simulations != None :\n",
    "        onehot_sims.append(1)\n",
    "    else:\n",
    "        onehot_sims.append(0)\n",
    "        \n",
    "    if experiments != None :\n",
    "        onehot_exp.append(1)\n",
    "    else:\n",
    "        onehot_exp.append(0)\n",
    "        \n",
    "    if informatics != None :\n",
    "        onehot_info.append(1)\n",
    "    else:\n",
    "        onehot_info.append(0)\n",
    "        \n",
    "    abstracts.append(desc.lower())\n"
   ]
  },
  {
   "cell_type": "code",
   "execution_count": 116,
   "metadata": {},
   "outputs": [
    {
     "data": {
      "text/plain": [
       "73"
      ]
     },
     "execution_count": 116,
     "metadata": {},
     "output_type": "execute_result"
    }
   ],
   "source": [
    "df = pd.DataFrame({\"Abstract\" : abstracts,\"Experiments\" : onehot_exp, \"Simulations\" : onehot_sims, \"Informatics\" : onehot_info})              \n",
    "df = df[(df.Experiments == 1) | (df.Simulations == 1) | (df.Informatics == 1)]\n",
    "len(df)"
   ]
  },
  {
   "cell_type": "code",
   "execution_count": 117,
   "metadata": {},
   "outputs": [
    {
     "data": {
      "text/html": [
       "<div>\n",
       "<style scoped>\n",
       "    .dataframe tbody tr th:only-of-type {\n",
       "        vertical-align: middle;\n",
       "    }\n",
       "\n",
       "    .dataframe tbody tr th {\n",
       "        vertical-align: top;\n",
       "    }\n",
       "\n",
       "    .dataframe thead th {\n",
       "        text-align: right;\n",
       "    }\n",
       "</style>\n",
       "<table border=\"1\" class=\"dataframe\">\n",
       "  <thead>\n",
       "    <tr style=\"text-align: right;\">\n",
       "      <th></th>\n",
       "      <th>Abstract</th>\n",
       "      <th>Experiments</th>\n",
       "      <th>Informatics</th>\n",
       "      <th>Simulations</th>\n",
       "    </tr>\n",
       "  </thead>\n",
       "  <tbody>\n",
       "    <tr>\n",
       "      <th>0</th>\n",
       "      <td>simulation outputs for a total of more than 23...</td>\n",
       "      <td>0</td>\n",
       "      <td>0</td>\n",
       "      <td>1</td>\n",
       "    </tr>\n",
       "    <tr>\n",
       "      <th>1</th>\n",
       "      <td>we demonstrate automated generation of diffusi...</td>\n",
       "      <td>0</td>\n",
       "      <td>0</td>\n",
       "      <td>1</td>\n",
       "    </tr>\n",
       "    <tr>\n",
       "      <th>2</th>\n",
       "      <td>a database has been constructed that contains ...</td>\n",
       "      <td>1</td>\n",
       "      <td>0</td>\n",
       "      <td>0</td>\n",
       "    </tr>\n",
       "    <tr>\n",
       "      <th>3</th>\n",
       "      <td>long-standing challenges in cluster expansion ...</td>\n",
       "      <td>0</td>\n",
       "      <td>0</td>\n",
       "      <td>1</td>\n",
       "    </tr>\n",
       "    <tr>\n",
       "      <th>4</th>\n",
       "      <td>this notebook makes use of the pymatgen packag...</td>\n",
       "      <td>0</td>\n",
       "      <td>0</td>\n",
       "      <td>1</td>\n",
       "    </tr>\n",
       "  </tbody>\n",
       "</table>\n",
       "</div>"
      ],
      "text/plain": [
       "                                            Abstract  Experiments  \\\n",
       "0  simulation outputs for a total of more than 23...            0   \n",
       "1  we demonstrate automated generation of diffusi...            0   \n",
       "2  a database has been constructed that contains ...            1   \n",
       "3  long-standing challenges in cluster expansion ...            0   \n",
       "4  this notebook makes use of the pymatgen packag...            0   \n",
       "\n",
       "   Informatics  Simulations  \n",
       "0            0            1  \n",
       "1            0            1  \n",
       "2            0            0  \n",
       "3            0            1  \n",
       "4            0            1  "
      ]
     },
     "execution_count": 117,
     "metadata": {},
     "output_type": "execute_result"
    }
   ],
   "source": [
    "df.head()"
   ]
  },
  {
   "cell_type": "code",
   "execution_count": 142,
   "metadata": {},
   "outputs": [],
   "source": [
    "def accuracy(df):\n",
    "    return (sum(df.Experiments == df.pred_exp) + sum(df.Simulations == df.pred_sim) + sum(df.Informatics == df.pred_info)) / (len(df) * 3)"
   ]
  },
  {
   "cell_type": "markdown",
   "metadata": {},
   "source": [
    "## Random Model\n",
    "\n",
    "- Randomly assigns a label if a random number generates >0.5 value for each label\n",
    "- Accuracy around 0.5 for >10 iterations "
   ]
  },
  {
   "cell_type": "code",
   "execution_count": 173,
   "metadata": {},
   "outputs": [
    {
     "data": {
      "text/plain": [
       "0.49776255707762557"
      ]
     },
     "execution_count": 173,
     "metadata": {},
     "output_type": "execute_result"
    }
   ],
   "source": [
    "avg_acc = 0.0\n",
    "iterations = 100\n",
    "\n",
    "for i in range(iterations):\n",
    "    df['pred_exp'] = (np.random.rand(len(df)) > 0.5).astype(int)\n",
    "    df['pred_sim'] = (np.random.rand(len(df)) > 0.5).astype(int)\n",
    "    df['pred_info'] = (np.random.rand(len(df)) > 0.5).astype(int)\n",
    "    \n",
    "    avg_acc += accuracy(df)\n",
    "avg_acc /= iterations\n",
    "avg_acc"
   ]
  },
  {
   "cell_type": "markdown",
   "metadata": {},
   "source": [
    "## Naive Model\n",
    "\n",
    "- Checks whether the class label is explicilty present in the text\n",
    "- If actual one-hot encoded value (for each class) is same as predicted one-hot value, then a point is awarded"
   ]
  },
  {
   "cell_type": "code",
   "execution_count": 176,
   "metadata": {},
   "outputs": [
    {
     "data": {
      "text/html": [
       "<div>\n",
       "<style scoped>\n",
       "    .dataframe tbody tr th:only-of-type {\n",
       "        vertical-align: middle;\n",
       "    }\n",
       "\n",
       "    .dataframe tbody tr th {\n",
       "        vertical-align: top;\n",
       "    }\n",
       "\n",
       "    .dataframe thead th {\n",
       "        text-align: right;\n",
       "    }\n",
       "</style>\n",
       "<table border=\"1\" class=\"dataframe\">\n",
       "  <thead>\n",
       "    <tr style=\"text-align: right;\">\n",
       "      <th></th>\n",
       "      <th>Abstract</th>\n",
       "      <th>Experiments</th>\n",
       "      <th>Informatics</th>\n",
       "      <th>Simulations</th>\n",
       "      <th>pred_exp</th>\n",
       "      <th>pred_sim</th>\n",
       "      <th>pred_info</th>\n",
       "    </tr>\n",
       "  </thead>\n",
       "  <tbody>\n",
       "    <tr>\n",
       "      <th>0</th>\n",
       "      <td>simulation outputs for a total of more than 23...</td>\n",
       "      <td>0</td>\n",
       "      <td>0</td>\n",
       "      <td>1</td>\n",
       "      <td>0</td>\n",
       "      <td>1</td>\n",
       "      <td>0</td>\n",
       "    </tr>\n",
       "    <tr>\n",
       "      <th>1</th>\n",
       "      <td>we demonstrate automated generation of diffusi...</td>\n",
       "      <td>0</td>\n",
       "      <td>0</td>\n",
       "      <td>1</td>\n",
       "      <td>1</td>\n",
       "      <td>0</td>\n",
       "      <td>0</td>\n",
       "    </tr>\n",
       "    <tr>\n",
       "      <th>2</th>\n",
       "      <td>a database has been constructed that contains ...</td>\n",
       "      <td>1</td>\n",
       "      <td>0</td>\n",
       "      <td>0</td>\n",
       "      <td>0</td>\n",
       "      <td>0</td>\n",
       "      <td>0</td>\n",
       "    </tr>\n",
       "    <tr>\n",
       "      <th>3</th>\n",
       "      <td>long-standing challenges in cluster expansion ...</td>\n",
       "      <td>0</td>\n",
       "      <td>0</td>\n",
       "      <td>1</td>\n",
       "      <td>0</td>\n",
       "      <td>0</td>\n",
       "      <td>0</td>\n",
       "    </tr>\n",
       "    <tr>\n",
       "      <th>4</th>\n",
       "      <td>this notebook makes use of the pymatgen packag...</td>\n",
       "      <td>0</td>\n",
       "      <td>0</td>\n",
       "      <td>1</td>\n",
       "      <td>0</td>\n",
       "      <td>0</td>\n",
       "      <td>0</td>\n",
       "    </tr>\n",
       "  </tbody>\n",
       "</table>\n",
       "</div>"
      ],
      "text/plain": [
       "                                            Abstract  Experiments  \\\n",
       "0  simulation outputs for a total of more than 23...            0   \n",
       "1  we demonstrate automated generation of diffusi...            0   \n",
       "2  a database has been constructed that contains ...            1   \n",
       "3  long-standing challenges in cluster expansion ...            0   \n",
       "4  this notebook makes use of the pymatgen packag...            0   \n",
       "\n",
       "   Informatics  Simulations  pred_exp  pred_sim  pred_info  \n",
       "0            0            1         0         1          0  \n",
       "1            0            1         1         0          0  \n",
       "2            0            0         0         0          0  \n",
       "3            0            1         0         0          0  \n",
       "4            0            1         0         0          0  "
      ]
     },
     "execution_count": 176,
     "metadata": {},
     "output_type": "execute_result"
    }
   ],
   "source": [
    "df['pred_exp'] = df.Abstract.str.contains('experiment').astype(int)\n",
    "df['pred_sim'] = df.Abstract.str.contains('simulation').astype(int)\n",
    "df['pred_info'] = df.Abstract.str.contains('informatics').astype(int)\n",
    "\n",
    "df.head()"
   ]
  },
  {
   "cell_type": "code",
   "execution_count": 177,
   "metadata": {},
   "outputs": [
    {
     "data": {
      "text/plain": [
       "0.684931506849315"
      ]
     },
     "execution_count": 177,
     "metadata": {},
     "output_type": "execute_result"
    }
   ],
   "source": [
    "accuracy(df)"
   ]
  },
  {
   "cell_type": "code",
   "execution_count": 160,
   "metadata": {},
   "outputs": [
    {
     "data": {
      "text/plain": [
       "0.5"
      ]
     },
     "execution_count": 160,
     "metadata": {},
     "output_type": "execute_result"
    }
   ],
   "source": []
  },
  {
   "cell_type": "code",
   "execution_count": null,
   "metadata": {},
   "outputs": [],
   "source": []
  }
 ],
 "metadata": {
  "kernelspec": {
   "display_name": "Python 3",
   "language": "python",
   "name": "python3"
  },
  "language_info": {
   "codemirror_mode": {
    "name": "ipython",
    "version": 3
   },
   "file_extension": ".py",
   "mimetype": "text/x-python",
   "name": "python",
   "nbconvert_exporter": "python",
   "pygments_lexer": "ipython3",
   "version": "3.5.2"
  }
 },
 "nbformat": 4,
 "nbformat_minor": 2
}
