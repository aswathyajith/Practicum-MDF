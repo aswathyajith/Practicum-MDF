{
 "cells": [
  {
   "cell_type": "markdown",
   "metadata": {},
   "source": [
    "## Automated Classification of Materials Datasets with NLP"
   ]
  },
  {
   "cell_type": "code",
   "execution_count": 38,
   "metadata": {},
   "outputs": [],
   "source": [
    "import json\n",
    "import pandas as pd\n",
    "from xml.etree import ElementTree as ET"
   ]
  },
  {
   "cell_type": "code",
   "execution_count": 35,
   "metadata": {},
   "outputs": [],
   "source": [
    "#reading in json file\n",
    "with open(\"/home/aswathy/src/MPCS/Winter_18/Practicum/data/mrr-dump-4Jan18.json\", \"r\") as fin:\n",
    "    json_content = json.load(fin)\n",
    "    \n",
    "ns = {'nist' : 'http://schema.nist.gov/xml/res-md/1.0wd-02-2017'}\n",
    "abstracts = []\n",
    "onehot_sims = []\n",
    "onehot_exp = []\n",
    "onehot_info = []\n",
    "\n",
    "for json_item in json_content:\n",
    "    xmlstr = json_item['content']\n",
    "    root = ET.fromstring(xmlstr)\n",
    "    applicability = root.find('nist:applicability', namespaces=ns)\n",
    "    \n",
    "    #if no origin then throw away\n",
    "    if (applicability == None):\n",
    "        continue\n",
    "        \n",
    "    content = root.find('nist:content', namespaces=ns)    \n",
    "    desc = content.findtext('nist:description', namespaces=ns)\n",
    "    applicability = root.find('nist:applicability', namespaces=ns)\n",
    "    if (applicability == None):\n",
    "        continue\n",
    "        \n",
    "    dataOrigin = applicability.find('nist:dataOrigin', namespaces=ns)\n",
    "    simulations = dataOrigin.find('nist:simulations', namespaces=ns)\n",
    "    experiments = dataOrigin.find('nist:experiments', namespaces=ns)\n",
    "    informatics = dataOrigin.find('nist:informatics_and_data_science', namespaces=ns)\n",
    "    \n",
    "    if simulations != None :\n",
    "        onehot_sims.append(1)\n",
    "    else:\n",
    "        onehot_sims.append(0)\n",
    "        \n",
    "    if experiments != None :\n",
    "        onehot_exp.append(1)\n",
    "    else:\n",
    "        onehot_exp.append(0)\n",
    "        \n",
    "    if informatics != None :\n",
    "        onehot_info.append(1)\n",
    "    else:\n",
    "        onehot_info.append(0)\n",
    "        \n",
    "    abstracts.append(desc.lower())\n"
   ]
  },
  {
   "cell_type": "code",
   "execution_count": 29,
   "metadata": {},
   "outputs": [],
   "source": []
  },
  {
   "cell_type": "code",
   "execution_count": 82,
   "metadata": {},
   "outputs": [
    {
     "data": {
      "text/plain": [
       "73"
      ]
     },
     "execution_count": 82,
     "metadata": {},
     "output_type": "execute_result"
    }
   ],
   "source": [
    "df = pd.DataFrame({\"Abstract\" : abstracts,\"Experiments\" : onehot_exp, \"Simulations\" : onehot_sims, \"Informatics\" : onehot_info})              \n",
    "df = df[(df.Experiments == 1) | (df.Simulations == 1) | (df.Informatics == 1)]\n",
    "len(df)"
   ]
  },
  {
   "cell_type": "code",
   "execution_count": 84,
   "metadata": {},
   "outputs": [
    {
     "data": {
      "text/html": [
       "<div>\n",
       "<style scoped>\n",
       "    .dataframe tbody tr th:only-of-type {\n",
       "        vertical-align: middle;\n",
       "    }\n",
       "\n",
       "    .dataframe tbody tr th {\n",
       "        vertical-align: top;\n",
       "    }\n",
       "\n",
       "    .dataframe thead th {\n",
       "        text-align: right;\n",
       "    }\n",
       "</style>\n",
       "<table border=\"1\" class=\"dataframe\">\n",
       "  <thead>\n",
       "    <tr style=\"text-align: right;\">\n",
       "      <th></th>\n",
       "      <th>Abstract</th>\n",
       "      <th>Experiments</th>\n",
       "      <th>Informatics</th>\n",
       "      <th>Simulations</th>\n",
       "    </tr>\n",
       "  </thead>\n",
       "  <tbody>\n",
       "    <tr>\n",
       "      <th>0</th>\n",
       "      <td>simulation outputs for a total of more than 23...</td>\n",
       "      <td>0</td>\n",
       "      <td>0</td>\n",
       "      <td>1</td>\n",
       "    </tr>\n",
       "    <tr>\n",
       "      <th>1</th>\n",
       "      <td>we demonstrate automated generation of diffusi...</td>\n",
       "      <td>0</td>\n",
       "      <td>0</td>\n",
       "      <td>1</td>\n",
       "    </tr>\n",
       "    <tr>\n",
       "      <th>2</th>\n",
       "      <td>a database has been constructed that contains ...</td>\n",
       "      <td>1</td>\n",
       "      <td>0</td>\n",
       "      <td>0</td>\n",
       "    </tr>\n",
       "    <tr>\n",
       "      <th>3</th>\n",
       "      <td>long-standing challenges in cluster expansion ...</td>\n",
       "      <td>0</td>\n",
       "      <td>0</td>\n",
       "      <td>1</td>\n",
       "    </tr>\n",
       "    <tr>\n",
       "      <th>4</th>\n",
       "      <td>this notebook makes use of the pymatgen packag...</td>\n",
       "      <td>0</td>\n",
       "      <td>0</td>\n",
       "      <td>1</td>\n",
       "    </tr>\n",
       "  </tbody>\n",
       "</table>\n",
       "</div>"
      ],
      "text/plain": [
       "                                            Abstract  Experiments  \\\n",
       "0  simulation outputs for a total of more than 23...            0   \n",
       "1  we demonstrate automated generation of diffusi...            0   \n",
       "2  a database has been constructed that contains ...            1   \n",
       "3  long-standing challenges in cluster expansion ...            0   \n",
       "4  this notebook makes use of the pymatgen packag...            0   \n",
       "\n",
       "   Informatics  Simulations  \n",
       "0            0            1  \n",
       "1            0            1  \n",
       "2            0            0  \n",
       "3            0            1  \n",
       "4            0            1  "
      ]
     },
     "execution_count": 84,
     "metadata": {},
     "output_type": "execute_result"
    }
   ],
   "source": [
    "df.head()"
   ]
  },
  {
   "cell_type": "code",
   "execution_count": 96,
   "metadata": {},
   "outputs": [
    {
     "data": {
      "text/plain": [
       "16"
      ]
     },
     "execution_count": 96,
     "metadata": {},
     "output_type": "execute_result"
    }
   ],
   "source": [
    "classes = [\"\"]\n",
    "df['pred_exp'] = 0\n",
    "df['pred_sim'] = 0\n",
    "df['pred_info'] = 0\n",
    "\n",
    "df.Abstract.str.contains('experiment').sum()"
   ]
  },
  {
   "cell_type": "code",
   "execution_count": 88,
   "metadata": {},
   "outputs": [
    {
     "ename": "ValueError",
     "evalue": "The truth value of a Series is ambiguous. Use a.empty, a.bool(), a.item(), a.any() or a.all().",
     "output_type": "error",
     "traceback": [
      "\u001b[0;31m---------------------------------------------------------------------------\u001b[0m",
      "\u001b[0;31mValueError\u001b[0m                                Traceback (most recent call last)",
      "\u001b[0;32m<ipython-input-88-e3d248133518>\u001b[0m in \u001b[0;36m<module>\u001b[0;34m()\u001b[0m\n\u001b[0;32m----> 1\u001b[0;31m \u001b[0;32mif\u001b[0m \u001b[0mdf\u001b[0m\u001b[0;34m.\u001b[0m\u001b[0mExperiments\u001b[0m \u001b[0;34m==\u001b[0m \u001b[0mexp\u001b[0m\u001b[0;34m:\u001b[0m\u001b[0;34m\u001b[0m\u001b[0m\n\u001b[0m\u001b[1;32m      2\u001b[0m     \u001b[0mprint\u001b[0m\u001b[0;34m(\u001b[0m\u001b[0;34m'a'\u001b[0m\u001b[0;34m)\u001b[0m\u001b[0;34m\u001b[0m\u001b[0m\n",
      "\u001b[0;32m/usr/local/bin/anaconda/lib/python3.5/site-packages/pandas/core/generic.py\u001b[0m in \u001b[0;36m__nonzero__\u001b[0;34m(self)\u001b[0m\n\u001b[1;32m   1119\u001b[0m         raise ValueError(\"The truth value of a {0} is ambiguous. \"\n\u001b[1;32m   1120\u001b[0m                          \u001b[0;34m\"Use a.empty, a.bool(), a.item(), a.any() or a.all().\"\u001b[0m\u001b[0;34m\u001b[0m\u001b[0m\n\u001b[0;32m-> 1121\u001b[0;31m                          .format(self.__class__.__name__))\n\u001b[0m\u001b[1;32m   1122\u001b[0m \u001b[0;34m\u001b[0m\u001b[0m\n\u001b[1;32m   1123\u001b[0m     \u001b[0m__bool__\u001b[0m \u001b[0;34m=\u001b[0m \u001b[0m__nonzero__\u001b[0m\u001b[0;34m\u001b[0m\u001b[0m\n",
      "\u001b[0;31mValueError\u001b[0m: The truth value of a Series is ambiguous. Use a.empty, a.bool(), a.item(), a.any() or a.all()."
     ]
    }
   ],
   "source": [
    "if df.Experiments == exp:\n",
    "    print('a')"
   ]
  },
  {
   "cell_type": "code",
   "execution_count": 91,
   "metadata": {},
   "outputs": [
    {
     "data": {
      "text/plain": [
       "0     0\n",
       "1     0\n",
       "2     1\n",
       "3     0\n",
       "4     0\n",
       "5     0\n",
       "6     1\n",
       "7     1\n",
       "8     0\n",
       "9     0\n",
       "10    0\n",
       "11    1\n",
       "12    0\n",
       "13    0\n",
       "14    0\n",
       "15    1\n",
       "16    0\n",
       "17    0\n",
       "18    1\n",
       "19    1\n",
       "20    1\n",
       "21    0\n",
       "22    1\n",
       "23    1\n",
       "24    1\n",
       "25    1\n",
       "26    1\n",
       "27    1\n",
       "28    1\n",
       "29    0\n",
       "     ..\n",
       "43    0\n",
       "44    0\n",
       "45    1\n",
       "46    1\n",
       "47    1\n",
       "48    1\n",
       "49    0\n",
       "50    1\n",
       "51    0\n",
       "52    0\n",
       "53    0\n",
       "54    0\n",
       "55    0\n",
       "56    0\n",
       "57    0\n",
       "58    1\n",
       "59    0\n",
       "60    0\n",
       "61    0\n",
       "62    1\n",
       "63    1\n",
       "64    1\n",
       "65    0\n",
       "67    0\n",
       "68    0\n",
       "69    1\n",
       "70    0\n",
       "71    0\n",
       "72    1\n",
       "73    0\n",
       "Name: Experiments, Length: 73, dtype: int64"
      ]
     },
     "execution_count": 91,
     "metadata": {},
     "output_type": "execute_result"
    }
   ],
   "source": [
    "df.Experiments"
   ]
  },
  {
   "cell_type": "code",
   "execution_count": null,
   "metadata": {},
   "outputs": [],
   "source": []
  }
 ],
 "metadata": {
  "kernelspec": {
   "display_name": "Python 3",
   "language": "python",
   "name": "python3"
  },
  "language_info": {
   "codemirror_mode": {
    "name": "ipython",
    "version": 3
   },
   "file_extension": ".py",
   "mimetype": "text/x-python",
   "name": "python",
   "nbconvert_exporter": "python",
   "pygments_lexer": "ipython3",
   "version": "3.5.2"
  }
 },
 "nbformat": 4,
 "nbformat_minor": 2
}
